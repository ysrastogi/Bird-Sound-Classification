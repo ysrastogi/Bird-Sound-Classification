{
  "nbformat": 4,
  "nbformat_minor": 0,
  "metadata": {
    "colab": {
      "name": "Bird Sound Classification using SVM",
      "provenance": [],
      "collapsed_sections": []
    },
    "kernelspec": {
      "name": "python3",
      "display_name": "Python 3"
    },
    "language_info": {
      "name": "python"
    }
  },
  "cells": [
    {
      "cell_type": "code",
      "execution_count": null,
      "metadata": {
        "id": "BK7Y4NiwVWML"
      },
      "outputs": [],
      "source": [
        "import os\n",
        "import matplotlib.pyplot as plt\n",
        "import numpy as np\n",
        "import natsort\n",
        "import pandas as pd\n",
        "import scipy\n",
        "import math\n",
        "from sklearn.model_selection import train_test_split\n",
        "import librosa\n",
        "import librosa.display\n",
        "from numpy.ma.core import argsort"
      ]
    },
    {
      "cell_type": "code",
      "source": [
        "from google.colab import drive\n",
        "drive.mount('/content/drive', force_remount=True)"
      ],
      "metadata": {
        "colab": {
          "base_uri": "https://localhost:8080/"
        },
        "id": "_l-NqwVWV5PK",
        "outputId": "011ca9a4-3198-493a-d444-dd8506decbed"
      },
      "execution_count": null,
      "outputs": [
        {
          "output_type": "stream",
          "name": "stdout",
          "text": [
            "Mounted at /content/drive\n"
          ]
        }
      ]
    },
    {
      "cell_type": "code",
      "source": [
        "labelDir = '/content/drive/MyDrive/Data/ff1010bird_metadata.csv'\n"
      ],
      "metadata": {
        "id": "xdSiVec_WN3U"
      },
      "execution_count": null,
      "outputs": []
    },
    {
      "cell_type": "code",
      "source": [
        "df = pd.read_csv(labelDir,header=None,skiprows=1)\n",
        "data = df.values\n",
        "print(df.head)"
      ],
      "metadata": {
        "colab": {
          "base_uri": "https://localhost:8080/"
        },
        "id": "fMKdLG8vX4Nr",
        "outputId": "6b3868cc-9bae-4533-f22d-df64ae0b16ab"
      },
      "execution_count": null,
      "outputs": [
        {
          "output_type": "stream",
          "name": "stdout",
          "text": [
            "<bound method NDFrame.head of            0  1\n",
            "0      64486  0\n",
            "1       2525  0\n",
            "2      44981  0\n",
            "3     101323  0\n",
            "4     165746  0\n",
            "...      ... ..\n",
            "7685  168059  0\n",
            "7686  164922  0\n",
            "7687   80789  1\n",
            "7688  104733  1\n",
            "7689   40565  0\n",
            "\n",
            "[7690 rows x 2 columns]>\n"
          ]
        }
      ]
    },
    {
      "cell_type": "code",
      "source": [
        "sortedArr = data[data[:,0].argsort()]\n",
        "# sortedArr\n",
        "sortedLabel=sortedArr[:,1]\n",
        "sortedFileName=sortedArr[:,0]\n",
        "\n",
        "print(sortedFileName[0:50])\n",
        "print(sortedLabel[0:50])\n",
        "\n",
        "only50Label=sortedLabel[:200]\n",
        "print(only50Label.shape)"
      ],
      "metadata": {
        "colab": {
          "base_uri": "https://localhost:8080/"
        },
        "id": "MFflWTrflhDq",
        "outputId": "2d970efe-c88c-48b2-a3ed-5eaf085ecd44"
      },
      "execution_count": null,
      "outputs": [
        {
          "output_type": "stream",
          "name": "stdout",
          "text": [
            "[  55   87   99  100  104  156  345  347  349  369  370  371  376  377\n",
            "  378  518 1042 1043 1044 1045 1046 1050 1051 1052 1053 1054 1055 1056\n",
            " 1748 1931 1932 1933 1934 1945 2151 2155 2157 2421 2432 2435 2519 2520\n",
            " 2521 2522 2523 2524 2525 2526 2527 2528]\n",
            "[0 0 0 1 0 0 0 0 0 0 0 0 0 1 1 1 0 0 0 0 0 1 1 1 0 1 1 0 0 0 1 0 0 0 0 0 1\n",
            " 0 0 0 0 0 0 0 0 0 0 0 0 0]\n",
            "(200,)\n"
          ]
        }
      ]
    },
    {
      "cell_type": "code",
      "source": [
        "wavDir = '/content/drive/MyDrive/Data/sample200/'\n",
        "listOfWavs=os.listdir(wavDir)\n",
        "print(len(listOfWavs))"
      ],
      "metadata": {
        "colab": {
          "base_uri": "https://localhost:8080/"
        },
        "id": "w8NnkWs_lp80",
        "outputId": "b0201b89-b682-40d7-8533-51f77e186db0"
      },
      "execution_count": null,
      "outputs": [
        {
          "output_type": "stream",
          "name": "stdout",
          "text": [
            "200\n"
          ]
        }
      ]
    },
    {
      "cell_type": "code",
      "source": [
        "sortWavDir=natsort.natsorted(listOfWavs,reverse=False)\n",
        "print(sortWavDir)\n"
      ],
      "metadata": {
        "colab": {
          "base_uri": "https://localhost:8080/"
        },
        "id": "9-8pfZCRmG3b",
        "outputId": "ae074ba2-723d-4e7b-ce10-aa26b7c559c5"
      },
      "execution_count": null,
      "outputs": [
        {
          "output_type": "stream",
          "name": "stdout",
          "text": [
            "['104.wav', '347.wav', '1042.wav', '1050.wav', '1052.wav', '1054.wav', '1945.wav', '2151.wav', '2525.wav', '2531.wav', '2537.wav', '3182.wav', '3187.wav', '3188.wav', '3191.wav', '5204.wav', '5929.wav', '5996.wav', '5997.wav', '7151.wav', '7173.wav', '7320.wav', '7321.wav', '7542.wav', '7543.wav', '7875.wav', '7885.wav', '7887.wav', '7991.wav', '7994.wav', '7996.wav', '9219.wav', '9221.wav', '9225.wav', '9236.wav', '11685.wav', '11692.wav', '11696.wav', '11702.wav', '11732.wav', '12699.wav', '12704.wav', '12710.wav', '12728.wav', '13735.wav', '14314.wav', '14527.wav', '14853.wav', '14909.wav', '15225.wav', '15226.wav', '15290.wav', '15426.wav', '15459.wav', '15466.wav', '15468.wav', '15470.wav', '15552.wav', '15553.wav', '15598.wav', '15657.wav', '15792.wav', '16633.wav', '16765.wav', '16837.wav', '16990.wav', '16993.wav', '16995.wav', '17004.wav', '17005.wav', '17007.wav', '17008.wav', '17054.wav', '17055.wav', '17075.wav', '17082.wav', '17136.wav', '17138.wav', '17139.wav', '17143.wav', '17147.wav', '17354.wav', '17546.wav', '17632.wav', '18049.wav', '18050.wav', '18515.wav', '18755.wav', '18765.wav', '18806.wav', '18928.wav', '18930.wav', '19030.wav', '19037.wav', '19264.wav', '19376.wav', '19797.wav', '19992.wav', '20001.wav', '20008.wav', '20019.wav', '20020.wav', '20067.wav', '20190.wav', '20193.wav', '20194.wav', '20381.wav', '20693.wav', '20786.wav', '20787.wav', '20788.wav', '20988.wav', '20989.wav', '21245.wav', '21322.wav', '21601.wav', '21684.wav', '22132.wav', '22326.wav', '22327.wav', '22522.wav', '22721.wav', '22863.wav', '23025.wav', '23026.wav', '23040.wav', '23192.wav', '23257.wav', '23415.wav', '23417.wav', '23554.wav', '23574.wav', '23771.wav', '24950.wav', '25377.wav', '25380.wav', '25523.wav', '25526.wav', '25590.wav', '26267.wav', '26270.wav', '26906.wav', '26912.wav', '26913.wav', '26959.wav', '26975.wav', '28287.wav', '28376.wav', '28775.wav', '28807.wav', '28809.wav', '29606.wav', '29645.wav', '29932.wav', '29982.wav', '30034.wav', '30168.wav', '30307.wav', '30337.wav', '30338.wav', '30414.wav', '30547.wav', '30788.wav', '30789.wav', '30950.wav', '31027.wav', '31154.wav', '31155.wav', '31169.wav', '31244.wav', '31256.wav', '31454.wav', '31456.wav', '31581.wav', '31909.wav', '32046.wav', '32175.wav', '32245.wav', '32261.wav', '32311.wav', '32406.wav', '32479.wav', '32491.wav', '32494.wav', '32496.wav', '32511.wav', '32536.wav', '32571.wav', '32746.wav', '32797.wav', '32834.wav', '32859.wav', '33196.wav', '33256.wav', '33390.wav', '33444.wav', '33449.wav', '33542.wav', '33640.wav', '33641.wav']\n"
          ]
        }
      ]
    },
    {
      "cell_type": "code",
      "source": [
        "wavData = []\n",
        "for file in sortWavDir:\n",
        "    print(file)\n",
        "    filePath=wavDir+file\n",
        "    print(filePath)\n",
        "    audio, sr = librosa.load(filePath)\n",
        "    print('duration in seconds = ',len(audio)/sr)\n",
        "    fourSecSample = audio[0*sr:10*sr]\n",
        "    print('duration in seconds = ',len(fourSecSample)/sr)\n",
        "    wavData.append(fourSecSample)\n",
        "\n",
        "wavData = np.asarray(wavData)\n",
        "    \n"
      ],
      "metadata": {
        "colab": {
          "base_uri": "https://localhost:8080/"
        },
        "id": "vrdH2LzSmVln",
        "outputId": "f2b514b3-0566-4769-c4c5-62cc26b16ca3"
      },
      "execution_count": null,
      "outputs": [
        {
          "output_type": "stream",
          "name": "stdout",
          "text": [
            "104.wav\n",
            "/content/drive/MyDrive/Data/sample200/104.wav\n",
            "duration in seconds =  10.0\n",
            "duration in seconds =  10.0\n",
            "347.wav\n",
            "/content/drive/MyDrive/Data/sample200/347.wav\n",
            "duration in seconds =  10.0\n",
            "duration in seconds =  10.0\n",
            "1042.wav\n",
            "/content/drive/MyDrive/Data/sample200/1042.wav\n",
            "duration in seconds =  10.0\n",
            "duration in seconds =  10.0\n",
            "1050.wav\n",
            "/content/drive/MyDrive/Data/sample200/1050.wav\n",
            "duration in seconds =  10.0\n",
            "duration in seconds =  10.0\n",
            "1052.wav\n",
            "/content/drive/MyDrive/Data/sample200/1052.wav\n",
            "duration in seconds =  10.0\n",
            "duration in seconds =  10.0\n",
            "1054.wav\n",
            "/content/drive/MyDrive/Data/sample200/1054.wav\n",
            "duration in seconds =  10.0\n",
            "duration in seconds =  10.0\n",
            "1945.wav\n",
            "/content/drive/MyDrive/Data/sample200/1945.wav\n",
            "duration in seconds =  10.0\n",
            "duration in seconds =  10.0\n",
            "2151.wav\n",
            "/content/drive/MyDrive/Data/sample200/2151.wav\n",
            "duration in seconds =  10.0\n",
            "duration in seconds =  10.0\n",
            "2525.wav\n",
            "/content/drive/MyDrive/Data/sample200/2525.wav\n",
            "duration in seconds =  10.0\n",
            "duration in seconds =  10.0\n",
            "2531.wav\n",
            "/content/drive/MyDrive/Data/sample200/2531.wav\n",
            "duration in seconds =  10.0\n",
            "duration in seconds =  10.0\n",
            "2537.wav\n",
            "/content/drive/MyDrive/Data/sample200/2537.wav\n",
            "duration in seconds =  10.0\n",
            "duration in seconds =  10.0\n",
            "3182.wav\n",
            "/content/drive/MyDrive/Data/sample200/3182.wav\n",
            "duration in seconds =  10.0\n",
            "duration in seconds =  10.0\n",
            "3187.wav\n",
            "/content/drive/MyDrive/Data/sample200/3187.wav\n",
            "duration in seconds =  10.0\n",
            "duration in seconds =  10.0\n",
            "3188.wav\n",
            "/content/drive/MyDrive/Data/sample200/3188.wav\n",
            "duration in seconds =  10.0\n",
            "duration in seconds =  10.0\n",
            "3191.wav\n",
            "/content/drive/MyDrive/Data/sample200/3191.wav\n",
            "duration in seconds =  10.0\n",
            "duration in seconds =  10.0\n",
            "5204.wav\n",
            "/content/drive/MyDrive/Data/sample200/5204.wav\n",
            "duration in seconds =  10.0\n",
            "duration in seconds =  10.0\n",
            "5929.wav\n",
            "/content/drive/MyDrive/Data/sample200/5929.wav\n",
            "duration in seconds =  10.0\n",
            "duration in seconds =  10.0\n",
            "5996.wav\n",
            "/content/drive/MyDrive/Data/sample200/5996.wav\n",
            "duration in seconds =  10.0\n",
            "duration in seconds =  10.0\n",
            "5997.wav\n",
            "/content/drive/MyDrive/Data/sample200/5997.wav\n",
            "duration in seconds =  10.0\n",
            "duration in seconds =  10.0\n",
            "7151.wav\n",
            "/content/drive/MyDrive/Data/sample200/7151.wav\n",
            "duration in seconds =  10.0\n",
            "duration in seconds =  10.0\n",
            "7173.wav\n",
            "/content/drive/MyDrive/Data/sample200/7173.wav\n",
            "duration in seconds =  10.0\n",
            "duration in seconds =  10.0\n",
            "7320.wav\n",
            "/content/drive/MyDrive/Data/sample200/7320.wav\n",
            "duration in seconds =  10.0\n",
            "duration in seconds =  10.0\n",
            "7321.wav\n",
            "/content/drive/MyDrive/Data/sample200/7321.wav\n",
            "duration in seconds =  10.0\n",
            "duration in seconds =  10.0\n",
            "7542.wav\n",
            "/content/drive/MyDrive/Data/sample200/7542.wav\n",
            "duration in seconds =  10.0\n",
            "duration in seconds =  10.0\n",
            "7543.wav\n",
            "/content/drive/MyDrive/Data/sample200/7543.wav\n",
            "duration in seconds =  10.0\n",
            "duration in seconds =  10.0\n",
            "7875.wav\n",
            "/content/drive/MyDrive/Data/sample200/7875.wav\n",
            "duration in seconds =  10.0\n",
            "duration in seconds =  10.0\n",
            "7885.wav\n",
            "/content/drive/MyDrive/Data/sample200/7885.wav\n",
            "duration in seconds =  10.0\n",
            "duration in seconds =  10.0\n",
            "7887.wav\n",
            "/content/drive/MyDrive/Data/sample200/7887.wav\n",
            "duration in seconds =  10.0\n",
            "duration in seconds =  10.0\n",
            "7991.wav\n",
            "/content/drive/MyDrive/Data/sample200/7991.wav\n",
            "duration in seconds =  10.0\n",
            "duration in seconds =  10.0\n",
            "7994.wav\n",
            "/content/drive/MyDrive/Data/sample200/7994.wav\n",
            "duration in seconds =  10.0\n",
            "duration in seconds =  10.0\n",
            "7996.wav\n",
            "/content/drive/MyDrive/Data/sample200/7996.wav\n",
            "duration in seconds =  10.0\n",
            "duration in seconds =  10.0\n",
            "9219.wav\n",
            "/content/drive/MyDrive/Data/sample200/9219.wav\n",
            "duration in seconds =  10.0\n",
            "duration in seconds =  10.0\n",
            "9221.wav\n",
            "/content/drive/MyDrive/Data/sample200/9221.wav\n",
            "duration in seconds =  10.0\n",
            "duration in seconds =  10.0\n",
            "9225.wav\n",
            "/content/drive/MyDrive/Data/sample200/9225.wav\n",
            "duration in seconds =  10.0\n",
            "duration in seconds =  10.0\n",
            "9236.wav\n",
            "/content/drive/MyDrive/Data/sample200/9236.wav\n",
            "duration in seconds =  10.0\n",
            "duration in seconds =  10.0\n",
            "11685.wav\n",
            "/content/drive/MyDrive/Data/sample200/11685.wav\n",
            "duration in seconds =  10.0\n",
            "duration in seconds =  10.0\n",
            "11692.wav\n",
            "/content/drive/MyDrive/Data/sample200/11692.wav\n",
            "duration in seconds =  10.0\n",
            "duration in seconds =  10.0\n",
            "11696.wav\n",
            "/content/drive/MyDrive/Data/sample200/11696.wav\n",
            "duration in seconds =  10.0\n",
            "duration in seconds =  10.0\n",
            "11702.wav\n",
            "/content/drive/MyDrive/Data/sample200/11702.wav\n",
            "duration in seconds =  10.0\n",
            "duration in seconds =  10.0\n",
            "11732.wav\n",
            "/content/drive/MyDrive/Data/sample200/11732.wav\n",
            "duration in seconds =  10.0\n",
            "duration in seconds =  10.0\n",
            "12699.wav\n",
            "/content/drive/MyDrive/Data/sample200/12699.wav\n",
            "duration in seconds =  10.0\n",
            "duration in seconds =  10.0\n",
            "12704.wav\n",
            "/content/drive/MyDrive/Data/sample200/12704.wav\n",
            "duration in seconds =  10.0\n",
            "duration in seconds =  10.0\n",
            "12710.wav\n",
            "/content/drive/MyDrive/Data/sample200/12710.wav\n",
            "duration in seconds =  10.0\n",
            "duration in seconds =  10.0\n",
            "12728.wav\n",
            "/content/drive/MyDrive/Data/sample200/12728.wav\n",
            "duration in seconds =  10.0\n",
            "duration in seconds =  10.0\n",
            "13735.wav\n",
            "/content/drive/MyDrive/Data/sample200/13735.wav\n",
            "duration in seconds =  10.0\n",
            "duration in seconds =  10.0\n",
            "14314.wav\n",
            "/content/drive/MyDrive/Data/sample200/14314.wav\n",
            "duration in seconds =  10.0\n",
            "duration in seconds =  10.0\n",
            "14527.wav\n",
            "/content/drive/MyDrive/Data/sample200/14527.wav\n",
            "duration in seconds =  10.0\n",
            "duration in seconds =  10.0\n",
            "14853.wav\n",
            "/content/drive/MyDrive/Data/sample200/14853.wav\n",
            "duration in seconds =  10.0\n",
            "duration in seconds =  10.0\n",
            "14909.wav\n",
            "/content/drive/MyDrive/Data/sample200/14909.wav\n",
            "duration in seconds =  10.0\n",
            "duration in seconds =  10.0\n",
            "15225.wav\n",
            "/content/drive/MyDrive/Data/sample200/15225.wav\n",
            "duration in seconds =  10.0\n",
            "duration in seconds =  10.0\n",
            "15226.wav\n",
            "/content/drive/MyDrive/Data/sample200/15226.wav\n",
            "duration in seconds =  10.0\n",
            "duration in seconds =  10.0\n",
            "15290.wav\n",
            "/content/drive/MyDrive/Data/sample200/15290.wav\n",
            "duration in seconds =  10.0\n",
            "duration in seconds =  10.0\n",
            "15426.wav\n",
            "/content/drive/MyDrive/Data/sample200/15426.wav\n",
            "duration in seconds =  10.0\n",
            "duration in seconds =  10.0\n",
            "15459.wav\n",
            "/content/drive/MyDrive/Data/sample200/15459.wav\n",
            "duration in seconds =  10.0\n",
            "duration in seconds =  10.0\n",
            "15466.wav\n",
            "/content/drive/MyDrive/Data/sample200/15466.wav\n",
            "duration in seconds =  10.0\n",
            "duration in seconds =  10.0\n",
            "15468.wav\n",
            "/content/drive/MyDrive/Data/sample200/15468.wav\n",
            "duration in seconds =  10.0\n",
            "duration in seconds =  10.0\n",
            "15470.wav\n",
            "/content/drive/MyDrive/Data/sample200/15470.wav\n",
            "duration in seconds =  10.0\n",
            "duration in seconds =  10.0\n",
            "15552.wav\n",
            "/content/drive/MyDrive/Data/sample200/15552.wav\n",
            "duration in seconds =  10.0\n",
            "duration in seconds =  10.0\n",
            "15553.wav\n",
            "/content/drive/MyDrive/Data/sample200/15553.wav\n",
            "duration in seconds =  10.0\n",
            "duration in seconds =  10.0\n",
            "15598.wav\n",
            "/content/drive/MyDrive/Data/sample200/15598.wav\n",
            "duration in seconds =  10.0\n",
            "duration in seconds =  10.0\n",
            "15657.wav\n",
            "/content/drive/MyDrive/Data/sample200/15657.wav\n",
            "duration in seconds =  10.0\n",
            "duration in seconds =  10.0\n",
            "15792.wav\n",
            "/content/drive/MyDrive/Data/sample200/15792.wav\n",
            "duration in seconds =  10.0\n",
            "duration in seconds =  10.0\n",
            "16633.wav\n",
            "/content/drive/MyDrive/Data/sample200/16633.wav\n",
            "duration in seconds =  10.0\n",
            "duration in seconds =  10.0\n",
            "16765.wav\n",
            "/content/drive/MyDrive/Data/sample200/16765.wav\n",
            "duration in seconds =  10.0\n",
            "duration in seconds =  10.0\n",
            "16837.wav\n",
            "/content/drive/MyDrive/Data/sample200/16837.wav\n",
            "duration in seconds =  10.0\n",
            "duration in seconds =  10.0\n",
            "16990.wav\n",
            "/content/drive/MyDrive/Data/sample200/16990.wav\n",
            "duration in seconds =  10.0\n",
            "duration in seconds =  10.0\n",
            "16993.wav\n",
            "/content/drive/MyDrive/Data/sample200/16993.wav\n",
            "duration in seconds =  10.0\n",
            "duration in seconds =  10.0\n",
            "16995.wav\n",
            "/content/drive/MyDrive/Data/sample200/16995.wav\n",
            "duration in seconds =  10.0\n",
            "duration in seconds =  10.0\n",
            "17004.wav\n",
            "/content/drive/MyDrive/Data/sample200/17004.wav\n",
            "duration in seconds =  10.0\n",
            "duration in seconds =  10.0\n",
            "17005.wav\n",
            "/content/drive/MyDrive/Data/sample200/17005.wav\n",
            "duration in seconds =  10.0\n",
            "duration in seconds =  10.0\n",
            "17007.wav\n",
            "/content/drive/MyDrive/Data/sample200/17007.wav\n",
            "duration in seconds =  10.0\n",
            "duration in seconds =  10.0\n",
            "17008.wav\n",
            "/content/drive/MyDrive/Data/sample200/17008.wav\n",
            "duration in seconds =  10.0\n",
            "duration in seconds =  10.0\n",
            "17054.wav\n",
            "/content/drive/MyDrive/Data/sample200/17054.wav\n",
            "duration in seconds =  10.0\n",
            "duration in seconds =  10.0\n",
            "17055.wav\n",
            "/content/drive/MyDrive/Data/sample200/17055.wav\n",
            "duration in seconds =  10.0\n",
            "duration in seconds =  10.0\n",
            "17075.wav\n",
            "/content/drive/MyDrive/Data/sample200/17075.wav\n",
            "duration in seconds =  10.0\n",
            "duration in seconds =  10.0\n",
            "17082.wav\n",
            "/content/drive/MyDrive/Data/sample200/17082.wav\n",
            "duration in seconds =  10.0\n",
            "duration in seconds =  10.0\n",
            "17136.wav\n",
            "/content/drive/MyDrive/Data/sample200/17136.wav\n",
            "duration in seconds =  10.0\n",
            "duration in seconds =  10.0\n",
            "17138.wav\n",
            "/content/drive/MyDrive/Data/sample200/17138.wav\n",
            "duration in seconds =  10.0\n",
            "duration in seconds =  10.0\n",
            "17139.wav\n",
            "/content/drive/MyDrive/Data/sample200/17139.wav\n",
            "duration in seconds =  10.0\n",
            "duration in seconds =  10.0\n",
            "17143.wav\n",
            "/content/drive/MyDrive/Data/sample200/17143.wav\n",
            "duration in seconds =  10.0\n",
            "duration in seconds =  10.0\n",
            "17147.wav\n",
            "/content/drive/MyDrive/Data/sample200/17147.wav\n",
            "duration in seconds =  10.0\n",
            "duration in seconds =  10.0\n",
            "17354.wav\n",
            "/content/drive/MyDrive/Data/sample200/17354.wav\n",
            "duration in seconds =  10.0\n",
            "duration in seconds =  10.0\n",
            "17546.wav\n",
            "/content/drive/MyDrive/Data/sample200/17546.wav\n",
            "duration in seconds =  10.0\n",
            "duration in seconds =  10.0\n",
            "17632.wav\n",
            "/content/drive/MyDrive/Data/sample200/17632.wav\n",
            "duration in seconds =  10.0\n",
            "duration in seconds =  10.0\n",
            "18049.wav\n",
            "/content/drive/MyDrive/Data/sample200/18049.wav\n",
            "duration in seconds =  10.0\n",
            "duration in seconds =  10.0\n",
            "18050.wav\n",
            "/content/drive/MyDrive/Data/sample200/18050.wav\n",
            "duration in seconds =  10.0\n",
            "duration in seconds =  10.0\n",
            "18515.wav\n",
            "/content/drive/MyDrive/Data/sample200/18515.wav\n",
            "duration in seconds =  10.0\n",
            "duration in seconds =  10.0\n",
            "18755.wav\n",
            "/content/drive/MyDrive/Data/sample200/18755.wav\n",
            "duration in seconds =  10.0\n",
            "duration in seconds =  10.0\n",
            "18765.wav\n",
            "/content/drive/MyDrive/Data/sample200/18765.wav\n",
            "duration in seconds =  10.0\n",
            "duration in seconds =  10.0\n",
            "18806.wav\n",
            "/content/drive/MyDrive/Data/sample200/18806.wav\n",
            "duration in seconds =  10.0\n",
            "duration in seconds =  10.0\n",
            "18928.wav\n",
            "/content/drive/MyDrive/Data/sample200/18928.wav\n",
            "duration in seconds =  10.0\n",
            "duration in seconds =  10.0\n",
            "18930.wav\n",
            "/content/drive/MyDrive/Data/sample200/18930.wav\n",
            "duration in seconds =  10.0\n",
            "duration in seconds =  10.0\n",
            "19030.wav\n",
            "/content/drive/MyDrive/Data/sample200/19030.wav\n",
            "duration in seconds =  10.0\n",
            "duration in seconds =  10.0\n",
            "19037.wav\n",
            "/content/drive/MyDrive/Data/sample200/19037.wav\n",
            "duration in seconds =  10.0\n",
            "duration in seconds =  10.0\n",
            "19264.wav\n",
            "/content/drive/MyDrive/Data/sample200/19264.wav\n",
            "duration in seconds =  10.0\n",
            "duration in seconds =  10.0\n",
            "19376.wav\n",
            "/content/drive/MyDrive/Data/sample200/19376.wav\n",
            "duration in seconds =  10.0\n",
            "duration in seconds =  10.0\n",
            "19797.wav\n",
            "/content/drive/MyDrive/Data/sample200/19797.wav\n",
            "duration in seconds =  10.0\n",
            "duration in seconds =  10.0\n",
            "19992.wav\n",
            "/content/drive/MyDrive/Data/sample200/19992.wav\n",
            "duration in seconds =  10.0\n",
            "duration in seconds =  10.0\n",
            "20001.wav\n",
            "/content/drive/MyDrive/Data/sample200/20001.wav\n",
            "duration in seconds =  10.0\n",
            "duration in seconds =  10.0\n",
            "20008.wav\n",
            "/content/drive/MyDrive/Data/sample200/20008.wav\n",
            "duration in seconds =  10.0\n",
            "duration in seconds =  10.0\n",
            "20019.wav\n",
            "/content/drive/MyDrive/Data/sample200/20019.wav\n",
            "duration in seconds =  10.0\n",
            "duration in seconds =  10.0\n",
            "20020.wav\n",
            "/content/drive/MyDrive/Data/sample200/20020.wav\n",
            "duration in seconds =  10.0\n",
            "duration in seconds =  10.0\n",
            "20067.wav\n",
            "/content/drive/MyDrive/Data/sample200/20067.wav\n",
            "duration in seconds =  10.0\n",
            "duration in seconds =  10.0\n",
            "20190.wav\n",
            "/content/drive/MyDrive/Data/sample200/20190.wav\n",
            "duration in seconds =  10.0\n",
            "duration in seconds =  10.0\n",
            "20193.wav\n",
            "/content/drive/MyDrive/Data/sample200/20193.wav\n",
            "duration in seconds =  10.0\n",
            "duration in seconds =  10.0\n",
            "20194.wav\n",
            "/content/drive/MyDrive/Data/sample200/20194.wav\n",
            "duration in seconds =  10.0\n",
            "duration in seconds =  10.0\n",
            "20381.wav\n",
            "/content/drive/MyDrive/Data/sample200/20381.wav\n",
            "duration in seconds =  10.0\n",
            "duration in seconds =  10.0\n",
            "20693.wav\n",
            "/content/drive/MyDrive/Data/sample200/20693.wav\n",
            "duration in seconds =  10.0\n",
            "duration in seconds =  10.0\n",
            "20786.wav\n",
            "/content/drive/MyDrive/Data/sample200/20786.wav\n",
            "duration in seconds =  10.0\n",
            "duration in seconds =  10.0\n",
            "20787.wav\n",
            "/content/drive/MyDrive/Data/sample200/20787.wav\n",
            "duration in seconds =  10.0\n",
            "duration in seconds =  10.0\n",
            "20788.wav\n",
            "/content/drive/MyDrive/Data/sample200/20788.wav\n",
            "duration in seconds =  10.0\n",
            "duration in seconds =  10.0\n",
            "20988.wav\n",
            "/content/drive/MyDrive/Data/sample200/20988.wav\n",
            "duration in seconds =  10.0\n",
            "duration in seconds =  10.0\n",
            "20989.wav\n",
            "/content/drive/MyDrive/Data/sample200/20989.wav\n",
            "duration in seconds =  10.0\n",
            "duration in seconds =  10.0\n",
            "21245.wav\n",
            "/content/drive/MyDrive/Data/sample200/21245.wav\n",
            "duration in seconds =  10.0\n",
            "duration in seconds =  10.0\n",
            "21322.wav\n",
            "/content/drive/MyDrive/Data/sample200/21322.wav\n",
            "duration in seconds =  10.0\n",
            "duration in seconds =  10.0\n",
            "21601.wav\n",
            "/content/drive/MyDrive/Data/sample200/21601.wav\n",
            "duration in seconds =  10.0\n",
            "duration in seconds =  10.0\n",
            "21684.wav\n",
            "/content/drive/MyDrive/Data/sample200/21684.wav\n",
            "duration in seconds =  10.0\n",
            "duration in seconds =  10.0\n",
            "22132.wav\n",
            "/content/drive/MyDrive/Data/sample200/22132.wav\n",
            "duration in seconds =  10.0\n",
            "duration in seconds =  10.0\n",
            "22326.wav\n",
            "/content/drive/MyDrive/Data/sample200/22326.wav\n",
            "duration in seconds =  10.0\n",
            "duration in seconds =  10.0\n",
            "22327.wav\n",
            "/content/drive/MyDrive/Data/sample200/22327.wav\n",
            "duration in seconds =  10.0\n",
            "duration in seconds =  10.0\n",
            "22522.wav\n",
            "/content/drive/MyDrive/Data/sample200/22522.wav\n",
            "duration in seconds =  10.0\n",
            "duration in seconds =  10.0\n",
            "22721.wav\n",
            "/content/drive/MyDrive/Data/sample200/22721.wav\n",
            "duration in seconds =  10.0\n",
            "duration in seconds =  10.0\n",
            "22863.wav\n",
            "/content/drive/MyDrive/Data/sample200/22863.wav\n",
            "duration in seconds =  10.0\n",
            "duration in seconds =  10.0\n",
            "23025.wav\n",
            "/content/drive/MyDrive/Data/sample200/23025.wav\n",
            "duration in seconds =  10.0\n",
            "duration in seconds =  10.0\n",
            "23026.wav\n",
            "/content/drive/MyDrive/Data/sample200/23026.wav\n",
            "duration in seconds =  10.0\n",
            "duration in seconds =  10.0\n",
            "23040.wav\n",
            "/content/drive/MyDrive/Data/sample200/23040.wav\n",
            "duration in seconds =  10.0\n",
            "duration in seconds =  10.0\n",
            "23192.wav\n",
            "/content/drive/MyDrive/Data/sample200/23192.wav\n",
            "duration in seconds =  10.0\n",
            "duration in seconds =  10.0\n",
            "23257.wav\n",
            "/content/drive/MyDrive/Data/sample200/23257.wav\n",
            "duration in seconds =  10.0\n",
            "duration in seconds =  10.0\n",
            "23415.wav\n",
            "/content/drive/MyDrive/Data/sample200/23415.wav\n",
            "duration in seconds =  10.0\n",
            "duration in seconds =  10.0\n",
            "23417.wav\n",
            "/content/drive/MyDrive/Data/sample200/23417.wav\n",
            "duration in seconds =  10.0\n",
            "duration in seconds =  10.0\n",
            "23554.wav\n",
            "/content/drive/MyDrive/Data/sample200/23554.wav\n",
            "duration in seconds =  10.0\n",
            "duration in seconds =  10.0\n",
            "23574.wav\n",
            "/content/drive/MyDrive/Data/sample200/23574.wav\n",
            "duration in seconds =  10.0\n",
            "duration in seconds =  10.0\n",
            "23771.wav\n",
            "/content/drive/MyDrive/Data/sample200/23771.wav\n",
            "duration in seconds =  10.0\n",
            "duration in seconds =  10.0\n",
            "24950.wav\n",
            "/content/drive/MyDrive/Data/sample200/24950.wav\n",
            "duration in seconds =  10.0\n",
            "duration in seconds =  10.0\n",
            "25377.wav\n",
            "/content/drive/MyDrive/Data/sample200/25377.wav\n",
            "duration in seconds =  10.0\n",
            "duration in seconds =  10.0\n",
            "25380.wav\n",
            "/content/drive/MyDrive/Data/sample200/25380.wav\n",
            "duration in seconds =  10.0\n",
            "duration in seconds =  10.0\n",
            "25523.wav\n",
            "/content/drive/MyDrive/Data/sample200/25523.wav\n",
            "duration in seconds =  10.0\n",
            "duration in seconds =  10.0\n",
            "25526.wav\n",
            "/content/drive/MyDrive/Data/sample200/25526.wav\n",
            "duration in seconds =  10.0\n",
            "duration in seconds =  10.0\n",
            "25590.wav\n",
            "/content/drive/MyDrive/Data/sample200/25590.wav\n",
            "duration in seconds =  10.0\n",
            "duration in seconds =  10.0\n",
            "26267.wav\n",
            "/content/drive/MyDrive/Data/sample200/26267.wav\n",
            "duration in seconds =  10.0\n",
            "duration in seconds =  10.0\n",
            "26270.wav\n",
            "/content/drive/MyDrive/Data/sample200/26270.wav\n",
            "duration in seconds =  10.0\n",
            "duration in seconds =  10.0\n",
            "26906.wav\n",
            "/content/drive/MyDrive/Data/sample200/26906.wav\n",
            "duration in seconds =  10.0\n",
            "duration in seconds =  10.0\n",
            "26912.wav\n",
            "/content/drive/MyDrive/Data/sample200/26912.wav\n",
            "duration in seconds =  10.0\n",
            "duration in seconds =  10.0\n",
            "26913.wav\n",
            "/content/drive/MyDrive/Data/sample200/26913.wav\n",
            "duration in seconds =  10.0\n",
            "duration in seconds =  10.0\n",
            "26959.wav\n",
            "/content/drive/MyDrive/Data/sample200/26959.wav\n",
            "duration in seconds =  10.0\n",
            "duration in seconds =  10.0\n",
            "26975.wav\n",
            "/content/drive/MyDrive/Data/sample200/26975.wav\n",
            "duration in seconds =  10.0\n",
            "duration in seconds =  10.0\n",
            "28287.wav\n",
            "/content/drive/MyDrive/Data/sample200/28287.wav\n",
            "duration in seconds =  10.0\n",
            "duration in seconds =  10.0\n",
            "28376.wav\n",
            "/content/drive/MyDrive/Data/sample200/28376.wav\n",
            "duration in seconds =  10.0\n",
            "duration in seconds =  10.0\n",
            "28775.wav\n",
            "/content/drive/MyDrive/Data/sample200/28775.wav\n",
            "duration in seconds =  10.0\n",
            "duration in seconds =  10.0\n",
            "28807.wav\n",
            "/content/drive/MyDrive/Data/sample200/28807.wav\n",
            "duration in seconds =  10.0\n",
            "duration in seconds =  10.0\n",
            "28809.wav\n",
            "/content/drive/MyDrive/Data/sample200/28809.wav\n",
            "duration in seconds =  10.0\n",
            "duration in seconds =  10.0\n",
            "29606.wav\n",
            "/content/drive/MyDrive/Data/sample200/29606.wav\n",
            "duration in seconds =  10.0\n",
            "duration in seconds =  10.0\n",
            "29645.wav\n",
            "/content/drive/MyDrive/Data/sample200/29645.wav\n",
            "duration in seconds =  10.0\n",
            "duration in seconds =  10.0\n",
            "29932.wav\n",
            "/content/drive/MyDrive/Data/sample200/29932.wav\n",
            "duration in seconds =  10.0\n",
            "duration in seconds =  10.0\n",
            "29982.wav\n",
            "/content/drive/MyDrive/Data/sample200/29982.wav\n",
            "duration in seconds =  10.0\n",
            "duration in seconds =  10.0\n",
            "30034.wav\n",
            "/content/drive/MyDrive/Data/sample200/30034.wav\n",
            "duration in seconds =  10.0\n",
            "duration in seconds =  10.0\n",
            "30168.wav\n",
            "/content/drive/MyDrive/Data/sample200/30168.wav\n",
            "duration in seconds =  10.0\n",
            "duration in seconds =  10.0\n",
            "30307.wav\n",
            "/content/drive/MyDrive/Data/sample200/30307.wav\n",
            "duration in seconds =  10.0\n",
            "duration in seconds =  10.0\n",
            "30337.wav\n",
            "/content/drive/MyDrive/Data/sample200/30337.wav\n",
            "duration in seconds =  10.0\n",
            "duration in seconds =  10.0\n",
            "30338.wav\n",
            "/content/drive/MyDrive/Data/sample200/30338.wav\n",
            "duration in seconds =  10.0\n",
            "duration in seconds =  10.0\n",
            "30414.wav\n",
            "/content/drive/MyDrive/Data/sample200/30414.wav\n",
            "duration in seconds =  10.0\n",
            "duration in seconds =  10.0\n",
            "30547.wav\n",
            "/content/drive/MyDrive/Data/sample200/30547.wav\n",
            "duration in seconds =  10.0\n",
            "duration in seconds =  10.0\n",
            "30788.wav\n",
            "/content/drive/MyDrive/Data/sample200/30788.wav\n",
            "duration in seconds =  10.0\n",
            "duration in seconds =  10.0\n",
            "30789.wav\n",
            "/content/drive/MyDrive/Data/sample200/30789.wav\n",
            "duration in seconds =  10.0\n",
            "duration in seconds =  10.0\n",
            "30950.wav\n",
            "/content/drive/MyDrive/Data/sample200/30950.wav\n",
            "duration in seconds =  10.0\n",
            "duration in seconds =  10.0\n",
            "31027.wav\n",
            "/content/drive/MyDrive/Data/sample200/31027.wav\n",
            "duration in seconds =  10.0\n",
            "duration in seconds =  10.0\n",
            "31154.wav\n",
            "/content/drive/MyDrive/Data/sample200/31154.wav\n",
            "duration in seconds =  10.0\n",
            "duration in seconds =  10.0\n",
            "31155.wav\n",
            "/content/drive/MyDrive/Data/sample200/31155.wav\n",
            "duration in seconds =  10.0\n",
            "duration in seconds =  10.0\n",
            "31169.wav\n",
            "/content/drive/MyDrive/Data/sample200/31169.wav\n",
            "duration in seconds =  10.0\n",
            "duration in seconds =  10.0\n",
            "31244.wav\n",
            "/content/drive/MyDrive/Data/sample200/31244.wav\n",
            "duration in seconds =  10.0\n",
            "duration in seconds =  10.0\n",
            "31256.wav\n",
            "/content/drive/MyDrive/Data/sample200/31256.wav\n",
            "duration in seconds =  10.0\n",
            "duration in seconds =  10.0\n",
            "31454.wav\n",
            "/content/drive/MyDrive/Data/sample200/31454.wav\n",
            "duration in seconds =  10.0\n",
            "duration in seconds =  10.0\n",
            "31456.wav\n",
            "/content/drive/MyDrive/Data/sample200/31456.wav\n",
            "duration in seconds =  10.0\n",
            "duration in seconds =  10.0\n",
            "31581.wav\n",
            "/content/drive/MyDrive/Data/sample200/31581.wav\n",
            "duration in seconds =  10.0\n",
            "duration in seconds =  10.0\n",
            "31909.wav\n",
            "/content/drive/MyDrive/Data/sample200/31909.wav\n",
            "duration in seconds =  10.0\n",
            "duration in seconds =  10.0\n",
            "32046.wav\n",
            "/content/drive/MyDrive/Data/sample200/32046.wav\n",
            "duration in seconds =  10.0\n",
            "duration in seconds =  10.0\n",
            "32175.wav\n",
            "/content/drive/MyDrive/Data/sample200/32175.wav\n",
            "duration in seconds =  10.0\n",
            "duration in seconds =  10.0\n",
            "32245.wav\n",
            "/content/drive/MyDrive/Data/sample200/32245.wav\n",
            "duration in seconds =  10.0\n",
            "duration in seconds =  10.0\n",
            "32261.wav\n",
            "/content/drive/MyDrive/Data/sample200/32261.wav\n",
            "duration in seconds =  10.0\n",
            "duration in seconds =  10.0\n",
            "32311.wav\n",
            "/content/drive/MyDrive/Data/sample200/32311.wav\n",
            "duration in seconds =  10.0\n",
            "duration in seconds =  10.0\n",
            "32406.wav\n",
            "/content/drive/MyDrive/Data/sample200/32406.wav\n",
            "duration in seconds =  10.0\n",
            "duration in seconds =  10.0\n",
            "32479.wav\n",
            "/content/drive/MyDrive/Data/sample200/32479.wav\n",
            "duration in seconds =  10.0\n",
            "duration in seconds =  10.0\n",
            "32491.wav\n",
            "/content/drive/MyDrive/Data/sample200/32491.wav\n",
            "duration in seconds =  10.0\n",
            "duration in seconds =  10.0\n",
            "32494.wav\n",
            "/content/drive/MyDrive/Data/sample200/32494.wav\n",
            "duration in seconds =  10.0\n",
            "duration in seconds =  10.0\n",
            "32496.wav\n",
            "/content/drive/MyDrive/Data/sample200/32496.wav\n",
            "duration in seconds =  10.0\n",
            "duration in seconds =  10.0\n",
            "32511.wav\n",
            "/content/drive/MyDrive/Data/sample200/32511.wav\n",
            "duration in seconds =  10.0\n",
            "duration in seconds =  10.0\n",
            "32536.wav\n",
            "/content/drive/MyDrive/Data/sample200/32536.wav\n",
            "duration in seconds =  10.0\n",
            "duration in seconds =  10.0\n",
            "32571.wav\n",
            "/content/drive/MyDrive/Data/sample200/32571.wav\n",
            "duration in seconds =  10.0\n",
            "duration in seconds =  10.0\n",
            "32746.wav\n",
            "/content/drive/MyDrive/Data/sample200/32746.wav\n",
            "duration in seconds =  10.0\n",
            "duration in seconds =  10.0\n",
            "32797.wav\n",
            "/content/drive/MyDrive/Data/sample200/32797.wav\n",
            "duration in seconds =  10.0\n",
            "duration in seconds =  10.0\n",
            "32834.wav\n",
            "/content/drive/MyDrive/Data/sample200/32834.wav\n",
            "duration in seconds =  10.0\n",
            "duration in seconds =  10.0\n",
            "32859.wav\n",
            "/content/drive/MyDrive/Data/sample200/32859.wav\n",
            "duration in seconds =  10.0\n",
            "duration in seconds =  10.0\n",
            "33196.wav\n",
            "/content/drive/MyDrive/Data/sample200/33196.wav\n",
            "duration in seconds =  10.0\n",
            "duration in seconds =  10.0\n",
            "33256.wav\n",
            "/content/drive/MyDrive/Data/sample200/33256.wav\n",
            "duration in seconds =  10.0\n",
            "duration in seconds =  10.0\n",
            "33390.wav\n",
            "/content/drive/MyDrive/Data/sample200/33390.wav\n",
            "duration in seconds =  10.0\n",
            "duration in seconds =  10.0\n",
            "33444.wav\n",
            "/content/drive/MyDrive/Data/sample200/33444.wav\n",
            "duration in seconds =  10.0\n",
            "duration in seconds =  10.0\n",
            "33449.wav\n",
            "/content/drive/MyDrive/Data/sample200/33449.wav\n",
            "duration in seconds =  10.0\n",
            "duration in seconds =  10.0\n",
            "33542.wav\n",
            "/content/drive/MyDrive/Data/sample200/33542.wav\n",
            "duration in seconds =  10.0\n",
            "duration in seconds =  10.0\n",
            "33640.wav\n",
            "/content/drive/MyDrive/Data/sample200/33640.wav\n",
            "duration in seconds =  10.0\n",
            "duration in seconds =  10.0\n",
            "33641.wav\n",
            "/content/drive/MyDrive/Data/sample200/33641.wav\n",
            "duration in seconds =  10.0\n",
            "duration in seconds =  10.0\n"
          ]
        }
      ]
    },
    {
      "cell_type": "code",
      "source": [
        "print('shape===',wavData.shape)"
      ],
      "metadata": {
        "colab": {
          "base_uri": "https://localhost:8080/"
        },
        "id": "clYafixCm4DQ",
        "outputId": "deb339b6-6901-428f-e47d-57925caddf1f"
      },
      "execution_count": null,
      "outputs": [
        {
          "output_type": "stream",
          "name": "stdout",
          "text": [
            "shape=== (200, 220500)\n"
          ]
        }
      ]
    },
    {
      "cell_type": "code",
      "source": [
        "allFeature1 = []\n",
        "for frame in range(len(wavData)):\n",
        "  OneSample = wavData[frame]\n",
        "  # Energy\n",
        "  energy=np.sum(np.square(OneSample)).reshape(-1,1)\n",
        "  # Spectral Centroid\n",
        "  spectral_centroid = librosa.feature.spectral_centroid(y=OneSample, sr=sr,n_fft=20, hop_length=len(OneSample)+1, center = False, win_length = 15 )\n",
        "  #RMS\n",
        "  rms = librosa.feature.rms(y=OneSample, hop_length=len(OneSample)+1)\n",
        "\n",
        "  featuresOneFrame=np.concatenate((energy, spectral_centroid, rms),axis = 0)\n",
        "  allFeature1.append(featuresOneFrame)\n",
        "\n",
        "\n",
        "\n"
      ],
      "metadata": {
        "id": "ckF-anfvu2Fh"
      },
      "execution_count": null,
      "outputs": []
    },
    {
      "cell_type": "code",
      "source": [
        "from librosa.feature.spectral import spectral_bandwidth\n",
        "allFeature2 = []\n",
        "for frame in range(len(wavData)):\n",
        "  OneSample2 = wavData[frame]\n",
        "  ##ZCR\n",
        "  zcr=librosa.feature.zero_crossing_rate(OneSample,hop_length=len(OneSample2)+1)\n",
        "  # Spectral Roll_off\n",
        "  spectral_rolloff = librosa.feature.spectral_rolloff(y=OneSample2, sr=sr,n_fft=20, hop_length=len(OneSample)+1, center = False, win_length = 15 )\n",
        "  #Spectral Bandwidth\n",
        "  spectral_bandwidth = librosa.feature.spectral_bandwidth(y=OneSample2, hop_length=len(OneSample)+1)\n",
        "\n",
        "  featuresOneFrame2=np.concatenate((energy, spectral_rolloff, spectral_centroid),axis = 0)\n",
        "  allFeature2.append(featuresOneFrame2)"
      ],
      "metadata": {
        "id": "aHo2JmIr9amH"
      },
      "execution_count": null,
      "outputs": []
    },
    {
      "cell_type": "code",
      "source": [
        "print(energy.shape)\n",
        "print(spectral_centroid.shape)\n",
        "print(rms.shape)\n",
        "print(featuresOneFrame.shape)\n",
        "\n",
        "allFeature1=np.asarray(allFeature1)\n",
        "\n",
        "print(allFeature1.shape)\n",
        "allFeature1=np.reshape(allFeature1, (allFeature1.shape[0],allFeature1.shape[1]))\n",
        "print(allFeature1.shape)"
      ],
      "metadata": {
        "colab": {
          "base_uri": "https://localhost:8080/"
        },
        "id": "5VOkXhrdvMvu",
        "outputId": "71247681-797a-45d7-a53c-3bd021955eae"
      },
      "execution_count": null,
      "outputs": [
        {
          "output_type": "stream",
          "name": "stdout",
          "text": [
            "(1, 1)\n",
            "(1, 1)\n",
            "(1, 1)\n",
            "(3, 1)\n",
            "(200, 3, 1)\n",
            "(200, 3)\n"
          ]
        }
      ]
    },
    {
      "cell_type": "code",
      "source": [
        "allFeature2=np.asarray(allFeature2)\n",
        "\n",
        "print(allFeature2.shape)\n",
        "allFeature2=np.reshape(allFeature2, (allFeature2.shape[0],allFeature2.shape[1]))\n",
        "print(allFeature2.shape)"
      ],
      "metadata": {
        "colab": {
          "base_uri": "https://localhost:8080/"
        },
        "id": "TjmqbXeQ-qxG",
        "outputId": "d4acef25-1476-4f4d-ae09-cf6f2a0f802b"
      },
      "execution_count": null,
      "outputs": [
        {
          "output_type": "stream",
          "name": "stdout",
          "text": [
            "(200, 3, 1)\n",
            "(200, 3)\n"
          ]
        }
      ]
    },
    {
      "cell_type": "code",
      "source": [
        "from sklearn import preprocessing\n",
        "allFeature1_standardized = preprocessing.scale(allFeature1)\n",
        "\n",
        "print(np.mean(allFeature1_standardized,axis=0))\n",
        "print(np.std(allFeature1_standardized,axis=0))"
      ],
      "metadata": {
        "colab": {
          "base_uri": "https://localhost:8080/"
        },
        "id": "5oif1MSQzuuh",
        "outputId": "04b99b35-3f45-4c57-a06f-b7d9630f4175"
      },
      "execution_count": null,
      "outputs": [
        {
          "output_type": "stream",
          "name": "stdout",
          "text": [
            "[0.00000000e+00 1.25455202e-16 6.32827124e-17]\n",
            "[1. 1. 1.]\n"
          ]
        }
      ]
    },
    {
      "cell_type": "code",
      "source": [
        "from sklearn import preprocessing\n",
        "allFeature2_standardized = preprocessing.scale(allFeature2)\n",
        "\n",
        "print(np.mean(allFeature2_standardized,axis=0))\n",
        "print(np.std(allFeature2_standardized,axis=0))"
      ],
      "metadata": {
        "colab": {
          "base_uri": "https://localhost:8080/"
        },
        "id": "YATkEMl4-3-i",
        "outputId": "57733702-1e5e-4414-ca15-8a96ed1fc676"
      },
      "execution_count": null,
      "outputs": [
        {
          "output_type": "stream",
          "name": "stdout",
          "text": [
            "[ 0.00000000e+00 -1.11022302e-18  0.00000000e+00]\n",
            "[0. 1. 0.]\n"
          ]
        }
      ]
    },
    {
      "cell_type": "code",
      "source": [
        "X_train1, X_test1, y_train1, y_test1 = train_test_split(allFeature1_standardized, only50Label, test_size=0.30, random_state=101,shuffle=True)"
      ],
      "metadata": {
        "id": "in1cJ6ql0evj"
      },
      "execution_count": null,
      "outputs": []
    },
    {
      "cell_type": "code",
      "source": [
        "X_train2, X_test2, y_train2, y_test2 = train_test_split(allFeature2_standardized, only50Label, test_size=0.30, random_state=101,shuffle=True)"
      ],
      "metadata": {
        "id": "ksgV4nFo_EjB"
      },
      "execution_count": null,
      "outputs": []
    },
    {
      "cell_type": "code",
      "source": [
        "from sklearn.svm import SVC\n",
        "\n",
        "model = SVC(kernel='rbf',C=200)\n",
        "model.fit(X_train1,y_train1)"
      ],
      "metadata": {
        "colab": {
          "base_uri": "https://localhost:8080/"
        },
        "id": "pi2bow8e0pot",
        "outputId": "15773168-a677-4a02-c418-9b2028b18006"
      },
      "execution_count": null,
      "outputs": [
        {
          "output_type": "execute_result",
          "data": {
            "text/plain": [
              "SVC(C=200)"
            ]
          },
          "metadata": {},
          "execution_count": 28
        }
      ]
    },
    {
      "cell_type": "code",
      "source": [
        "from sklearn.svm import SVC\n",
        "\n",
        "model = SVC(kernel='rbf',C=200)\n",
        "model.fit(X_train2,y_train2)"
      ],
      "metadata": {
        "colab": {
          "base_uri": "https://localhost:8080/"
        },
        "id": "K2NNaIHh_PrK",
        "outputId": "7e6dfb96-1e11-4e3c-bd16-4e83f23961ff"
      },
      "execution_count": null,
      "outputs": [
        {
          "output_type": "execute_result",
          "data": {
            "text/plain": [
              "SVC(C=200)"
            ]
          },
          "metadata": {},
          "execution_count": 29
        }
      ]
    },
    {
      "cell_type": "code",
      "source": [
        "from sklearn.metrics import classification_report,confusion_matrix,accuracy_score\n",
        "#prediction on test data\n",
        "predictions1 = model.predict(X_test1)\n",
        "print(predictions1)\n",
        "\n",
        "#different evaluation matrices\n",
        "print('accuracy_score==',accuracy_score(y_test1,predictions1))\n",
        "print('confusion matrix==\\n',confusion_matrix(y_test1,predictions1))\n",
        "print(classification_report(y_test1,predictions1))"
      ],
      "metadata": {
        "colab": {
          "base_uri": "https://localhost:8080/"
        },
        "id": "PEtaI4Vo0tXl",
        "outputId": "9a6564f9-bb0f-422b-913d-8dd58d9e7556"
      },
      "execution_count": null,
      "outputs": [
        {
          "output_type": "stream",
          "name": "stdout",
          "text": [
            "[0 0 0 0 0 0 0 0 0 0 0 0 0 0 0 0 0 0 0 0 0 0 0 0 0 0 0 0 0 0 0 0 0 0 0 0 0\n",
            " 0 0 0 0 0 0 0 0 0 0 0 0 0 0 0 0 0 0 0 0 0 0 0]\n",
            "accuracy_score== 0.75\n",
            "confusion matrix==\n",
            " [[45  0]\n",
            " [15  0]]\n",
            "              precision    recall  f1-score   support\n",
            "\n",
            "           0       0.75      1.00      0.86        45\n",
            "           1       0.00      0.00      0.00        15\n",
            "\n",
            "    accuracy                           0.75        60\n",
            "   macro avg       0.38      0.50      0.43        60\n",
            "weighted avg       0.56      0.75      0.64        60\n",
            "\n"
          ]
        },
        {
          "output_type": "stream",
          "name": "stderr",
          "text": [
            "/usr/local/lib/python3.7/dist-packages/sklearn/metrics/_classification.py:1318: UndefinedMetricWarning: Precision and F-score are ill-defined and being set to 0.0 in labels with no predicted samples. Use `zero_division` parameter to control this behavior.\n",
            "  _warn_prf(average, modifier, msg_start, len(result))\n",
            "/usr/local/lib/python3.7/dist-packages/sklearn/metrics/_classification.py:1318: UndefinedMetricWarning: Precision and F-score are ill-defined and being set to 0.0 in labels with no predicted samples. Use `zero_division` parameter to control this behavior.\n",
            "  _warn_prf(average, modifier, msg_start, len(result))\n",
            "/usr/local/lib/python3.7/dist-packages/sklearn/metrics/_classification.py:1318: UndefinedMetricWarning: Precision and F-score are ill-defined and being set to 0.0 in labels with no predicted samples. Use `zero_division` parameter to control this behavior.\n",
            "  _warn_prf(average, modifier, msg_start, len(result))\n"
          ]
        }
      ]
    },
    {
      "cell_type": "code",
      "source": [
        "from sklearn.metrics import classification_report,confusion_matrix,accuracy_score\n",
        "#prediction on test data\n",
        "predictions2 = model.predict(X_test2)\n",
        "print(predictions2)\n",
        "\n",
        "#different evaluation matrices\n",
        "print('accuracy_score==',accuracy_score(y_test2,predictions2))\n",
        "print('confusion matrix==\\n',confusion_matrix(y_test2,predictions2))\n",
        "print(classification_report(y_test2,predictions2))"
      ],
      "metadata": {
        "colab": {
          "base_uri": "https://localhost:8080/"
        },
        "id": "moQHcruf08n3",
        "outputId": "6a7cd96c-0911-4d85-8d2b-deabca353cd1"
      },
      "execution_count": null,
      "outputs": [
        {
          "output_type": "stream",
          "name": "stdout",
          "text": [
            "[0 0 0 0 0 0 0 0 0 0 0 0 0 0 0 0 0 0 0 0 0 0 0 0 0 0 0 0 0 0 0 0 0 0 0 0 0\n",
            " 0 0 0 0 0 0 0 0 0 0 0 0 0 0 0 0 0 0 0 0 0 0 0]\n",
            "accuracy_score== 0.75\n",
            "confusion matrix==\n",
            " [[45  0]\n",
            " [15  0]]\n",
            "              precision    recall  f1-score   support\n",
            "\n",
            "           0       0.75      1.00      0.86        45\n",
            "           1       0.00      0.00      0.00        15\n",
            "\n",
            "    accuracy                           0.75        60\n",
            "   macro avg       0.38      0.50      0.43        60\n",
            "weighted avg       0.56      0.75      0.64        60\n",
            "\n"
          ]
        },
        {
          "output_type": "stream",
          "name": "stderr",
          "text": [
            "/usr/local/lib/python3.7/dist-packages/sklearn/metrics/_classification.py:1318: UndefinedMetricWarning: Precision and F-score are ill-defined and being set to 0.0 in labels with no predicted samples. Use `zero_division` parameter to control this behavior.\n",
            "  _warn_prf(average, modifier, msg_start, len(result))\n",
            "/usr/local/lib/python3.7/dist-packages/sklearn/metrics/_classification.py:1318: UndefinedMetricWarning: Precision and F-score are ill-defined and being set to 0.0 in labels with no predicted samples. Use `zero_division` parameter to control this behavior.\n",
            "  _warn_prf(average, modifier, msg_start, len(result))\n",
            "/usr/local/lib/python3.7/dist-packages/sklearn/metrics/_classification.py:1318: UndefinedMetricWarning: Precision and F-score are ill-defined and being set to 0.0 in labels with no predicted samples. Use `zero_division` parameter to control this behavior.\n",
            "  _warn_prf(average, modifier, msg_start, len(result))\n"
          ]
        }
      ]
    },
    {
      "cell_type": "code",
      "source": [
        "param_grid = {'C': [0.1,1, 10, 100, 1000], 'gamma': [1,0.1,0.01,0.001,0.0001], 'kernel': ['rbf']} ##for rbf kernel\n",
        "# param_grid = {'C': [0.1,1, 10, 100, 1000], 'kernel': ['sigmoid']} ##for sigmoid kernel\n",
        "# param_grid = {'C': [0.1,1, 10, 100, 1000], 'kernel': ['linear']} ##for linear kernel\n",
        "# param_grid = {'C': [0.1,1, 10, 100, 1000], 'degree': [2,3,4,5,6], 'kernel': ['poly']} ##for polynomial kernel\n",
        "\n",
        "### gamma=Kernel coefficient for ‘rbf’, ‘poly’ and ‘sigmoid’\n",
        "### c=Regularization parameter\n",
        "\n",
        "from sklearn.model_selection import GridSearchCV\n",
        "grid1 = GridSearchCV(SVC(kernel='rbf'),param_grid,refit=True,verbose=2)\n",
        "grid1.fit(X_train1,y_train1)"
      ],
      "metadata": {
        "colab": {
          "base_uri": "https://localhost:8080/"
        },
        "id": "XioJvihX_iMm",
        "outputId": "4f2aa423-bd8e-4d23-951e-999a3402da30"
      },
      "execution_count": null,
      "outputs": [
        {
          "output_type": "stream",
          "name": "stdout",
          "text": [
            "Fitting 5 folds for each of 25 candidates, totalling 125 fits\n",
            "[CV] END .........................C=0.1, gamma=1, kernel=rbf; total time=   0.0s\n",
            "[CV] END .........................C=0.1, gamma=1, kernel=rbf; total time=   0.0s\n",
            "[CV] END .........................C=0.1, gamma=1, kernel=rbf; total time=   0.0s\n",
            "[CV] END .........................C=0.1, gamma=1, kernel=rbf; total time=   0.0s\n",
            "[CV] END .........................C=0.1, gamma=1, kernel=rbf; total time=   0.0s\n",
            "[CV] END .......................C=0.1, gamma=0.1, kernel=rbf; total time=   0.0s\n",
            "[CV] END .......................C=0.1, gamma=0.1, kernel=rbf; total time=   0.0s\n",
            "[CV] END .......................C=0.1, gamma=0.1, kernel=rbf; total time=   0.0s\n",
            "[CV] END .......................C=0.1, gamma=0.1, kernel=rbf; total time=   0.0s\n",
            "[CV] END .......................C=0.1, gamma=0.1, kernel=rbf; total time=   0.0s\n",
            "[CV] END ......................C=0.1, gamma=0.01, kernel=rbf; total time=   0.0s\n",
            "[CV] END ......................C=0.1, gamma=0.01, kernel=rbf; total time=   0.0s\n",
            "[CV] END ......................C=0.1, gamma=0.01, kernel=rbf; total time=   0.0s\n",
            "[CV] END ......................C=0.1, gamma=0.01, kernel=rbf; total time=   0.0s\n",
            "[CV] END ......................C=0.1, gamma=0.01, kernel=rbf; total time=   0.0s\n",
            "[CV] END .....................C=0.1, gamma=0.001, kernel=rbf; total time=   0.0s\n",
            "[CV] END .....................C=0.1, gamma=0.001, kernel=rbf; total time=   0.0s\n",
            "[CV] END .....................C=0.1, gamma=0.001, kernel=rbf; total time=   0.0s\n",
            "[CV] END .....................C=0.1, gamma=0.001, kernel=rbf; total time=   0.0s\n",
            "[CV] END .....................C=0.1, gamma=0.001, kernel=rbf; total time=   0.0s\n",
            "[CV] END ....................C=0.1, gamma=0.0001, kernel=rbf; total time=   0.0s\n",
            "[CV] END ....................C=0.1, gamma=0.0001, kernel=rbf; total time=   0.0s\n",
            "[CV] END ....................C=0.1, gamma=0.0001, kernel=rbf; total time=   0.0s\n",
            "[CV] END ....................C=0.1, gamma=0.0001, kernel=rbf; total time=   0.0s\n",
            "[CV] END ....................C=0.1, gamma=0.0001, kernel=rbf; total time=   0.0s\n",
            "[CV] END ...........................C=1, gamma=1, kernel=rbf; total time=   0.0s\n",
            "[CV] END ...........................C=1, gamma=1, kernel=rbf; total time=   0.0s\n",
            "[CV] END ...........................C=1, gamma=1, kernel=rbf; total time=   0.0s\n",
            "[CV] END ...........................C=1, gamma=1, kernel=rbf; total time=   0.0s\n",
            "[CV] END ...........................C=1, gamma=1, kernel=rbf; total time=   0.0s\n",
            "[CV] END .........................C=1, gamma=0.1, kernel=rbf; total time=   0.0s\n",
            "[CV] END .........................C=1, gamma=0.1, kernel=rbf; total time=   0.0s\n",
            "[CV] END .........................C=1, gamma=0.1, kernel=rbf; total time=   0.0s\n",
            "[CV] END .........................C=1, gamma=0.1, kernel=rbf; total time=   0.0s\n",
            "[CV] END .........................C=1, gamma=0.1, kernel=rbf; total time=   0.0s\n",
            "[CV] END ........................C=1, gamma=0.01, kernel=rbf; total time=   0.0s\n",
            "[CV] END ........................C=1, gamma=0.01, kernel=rbf; total time=   0.0s\n",
            "[CV] END ........................C=1, gamma=0.01, kernel=rbf; total time=   0.0s\n",
            "[CV] END ........................C=1, gamma=0.01, kernel=rbf; total time=   0.0s\n",
            "[CV] END ........................C=1, gamma=0.01, kernel=rbf; total time=   0.0s\n",
            "[CV] END .......................C=1, gamma=0.001, kernel=rbf; total time=   0.0s\n",
            "[CV] END .......................C=1, gamma=0.001, kernel=rbf; total time=   0.0s\n",
            "[CV] END .......................C=1, gamma=0.001, kernel=rbf; total time=   0.0s\n",
            "[CV] END .......................C=1, gamma=0.001, kernel=rbf; total time=   0.0s\n",
            "[CV] END .......................C=1, gamma=0.001, kernel=rbf; total time=   0.0s\n",
            "[CV] END ......................C=1, gamma=0.0001, kernel=rbf; total time=   0.0s\n",
            "[CV] END ......................C=1, gamma=0.0001, kernel=rbf; total time=   0.0s\n",
            "[CV] END ......................C=1, gamma=0.0001, kernel=rbf; total time=   0.0s\n",
            "[CV] END ......................C=1, gamma=0.0001, kernel=rbf; total time=   0.0s\n",
            "[CV] END ......................C=1, gamma=0.0001, kernel=rbf; total time=   0.0s\n",
            "[CV] END ..........................C=10, gamma=1, kernel=rbf; total time=   0.0s\n",
            "[CV] END ..........................C=10, gamma=1, kernel=rbf; total time=   0.0s\n",
            "[CV] END ..........................C=10, gamma=1, kernel=rbf; total time=   0.0s\n",
            "[CV] END ..........................C=10, gamma=1, kernel=rbf; total time=   0.0s\n",
            "[CV] END ..........................C=10, gamma=1, kernel=rbf; total time=   0.0s\n",
            "[CV] END ........................C=10, gamma=0.1, kernel=rbf; total time=   0.0s\n",
            "[CV] END ........................C=10, gamma=0.1, kernel=rbf; total time=   0.0s\n",
            "[CV] END ........................C=10, gamma=0.1, kernel=rbf; total time=   0.0s\n",
            "[CV] END ........................C=10, gamma=0.1, kernel=rbf; total time=   0.0s\n",
            "[CV] END ........................C=10, gamma=0.1, kernel=rbf; total time=   0.0s\n",
            "[CV] END .......................C=10, gamma=0.01, kernel=rbf; total time=   0.0s\n",
            "[CV] END .......................C=10, gamma=0.01, kernel=rbf; total time=   0.0s\n",
            "[CV] END .......................C=10, gamma=0.01, kernel=rbf; total time=   0.0s\n",
            "[CV] END .......................C=10, gamma=0.01, kernel=rbf; total time=   0.0s\n",
            "[CV] END .......................C=10, gamma=0.01, kernel=rbf; total time=   0.0s\n",
            "[CV] END ......................C=10, gamma=0.001, kernel=rbf; total time=   0.0s\n",
            "[CV] END ......................C=10, gamma=0.001, kernel=rbf; total time=   0.0s\n",
            "[CV] END ......................C=10, gamma=0.001, kernel=rbf; total time=   0.0s\n",
            "[CV] END ......................C=10, gamma=0.001, kernel=rbf; total time=   0.0s\n",
            "[CV] END ......................C=10, gamma=0.001, kernel=rbf; total time=   0.0s\n",
            "[CV] END .....................C=10, gamma=0.0001, kernel=rbf; total time=   0.0s\n",
            "[CV] END .....................C=10, gamma=0.0001, kernel=rbf; total time=   0.0s\n",
            "[CV] END .....................C=10, gamma=0.0001, kernel=rbf; total time=   0.0s\n",
            "[CV] END .....................C=10, gamma=0.0001, kernel=rbf; total time=   0.0s\n",
            "[CV] END .....................C=10, gamma=0.0001, kernel=rbf; total time=   0.0s\n",
            "[CV] END .........................C=100, gamma=1, kernel=rbf; total time=   0.0s\n",
            "[CV] END .........................C=100, gamma=1, kernel=rbf; total time=   0.0s\n",
            "[CV] END .........................C=100, gamma=1, kernel=rbf; total time=   0.0s\n",
            "[CV] END .........................C=100, gamma=1, kernel=rbf; total time=   0.0s\n",
            "[CV] END .........................C=100, gamma=1, kernel=rbf; total time=   0.0s\n",
            "[CV] END .......................C=100, gamma=0.1, kernel=rbf; total time=   0.0s\n",
            "[CV] END .......................C=100, gamma=0.1, kernel=rbf; total time=   0.0s\n",
            "[CV] END .......................C=100, gamma=0.1, kernel=rbf; total time=   0.0s\n",
            "[CV] END .......................C=100, gamma=0.1, kernel=rbf; total time=   0.0s\n",
            "[CV] END .......................C=100, gamma=0.1, kernel=rbf; total time=   0.0s\n",
            "[CV] END ......................C=100, gamma=0.01, kernel=rbf; total time=   0.0s\n",
            "[CV] END ......................C=100, gamma=0.01, kernel=rbf; total time=   0.0s\n",
            "[CV] END ......................C=100, gamma=0.01, kernel=rbf; total time=   0.0s\n",
            "[CV] END ......................C=100, gamma=0.01, kernel=rbf; total time=   0.0s\n",
            "[CV] END ......................C=100, gamma=0.01, kernel=rbf; total time=   0.0s\n",
            "[CV] END .....................C=100, gamma=0.001, kernel=rbf; total time=   0.0s\n",
            "[CV] END .....................C=100, gamma=0.001, kernel=rbf; total time=   0.0s\n",
            "[CV] END .....................C=100, gamma=0.001, kernel=rbf; total time=   0.0s\n",
            "[CV] END .....................C=100, gamma=0.001, kernel=rbf; total time=   0.0s\n",
            "[CV] END .....................C=100, gamma=0.001, kernel=rbf; total time=   0.0s\n",
            "[CV] END ....................C=100, gamma=0.0001, kernel=rbf; total time=   0.0s\n",
            "[CV] END ....................C=100, gamma=0.0001, kernel=rbf; total time=   0.0s\n",
            "[CV] END ....................C=100, gamma=0.0001, kernel=rbf; total time=   0.0s\n",
            "[CV] END ....................C=100, gamma=0.0001, kernel=rbf; total time=   0.0s\n",
            "[CV] END ....................C=100, gamma=0.0001, kernel=rbf; total time=   0.0s\n",
            "[CV] END ........................C=1000, gamma=1, kernel=rbf; total time=   0.0s\n",
            "[CV] END ........................C=1000, gamma=1, kernel=rbf; total time=   0.0s\n",
            "[CV] END ........................C=1000, gamma=1, kernel=rbf; total time=   0.0s\n",
            "[CV] END ........................C=1000, gamma=1, kernel=rbf; total time=   0.0s\n",
            "[CV] END ........................C=1000, gamma=1, kernel=rbf; total time=   0.0s\n",
            "[CV] END ......................C=1000, gamma=0.1, kernel=rbf; total time=   0.0s\n",
            "[CV] END ......................C=1000, gamma=0.1, kernel=rbf; total time=   0.0s\n",
            "[CV] END ......................C=1000, gamma=0.1, kernel=rbf; total time=   0.0s\n",
            "[CV] END ......................C=1000, gamma=0.1, kernel=rbf; total time=   0.0s\n",
            "[CV] END ......................C=1000, gamma=0.1, kernel=rbf; total time=   0.0s\n",
            "[CV] END .....................C=1000, gamma=0.01, kernel=rbf; total time=   0.0s\n",
            "[CV] END .....................C=1000, gamma=0.01, kernel=rbf; total time=   0.0s\n",
            "[CV] END .....................C=1000, gamma=0.01, kernel=rbf; total time=   0.0s\n",
            "[CV] END .....................C=1000, gamma=0.01, kernel=rbf; total time=   0.0s\n",
            "[CV] END .....................C=1000, gamma=0.01, kernel=rbf; total time=   0.0s\n",
            "[CV] END ....................C=1000, gamma=0.001, kernel=rbf; total time=   0.0s\n",
            "[CV] END ....................C=1000, gamma=0.001, kernel=rbf; total time=   0.0s\n",
            "[CV] END ....................C=1000, gamma=0.001, kernel=rbf; total time=   0.0s\n",
            "[CV] END ....................C=1000, gamma=0.001, kernel=rbf; total time=   0.0s\n",
            "[CV] END ....................C=1000, gamma=0.001, kernel=rbf; total time=   0.0s\n",
            "[CV] END ...................C=1000, gamma=0.0001, kernel=rbf; total time=   0.0s\n",
            "[CV] END ...................C=1000, gamma=0.0001, kernel=rbf; total time=   0.0s\n",
            "[CV] END ...................C=1000, gamma=0.0001, kernel=rbf; total time=   0.0s\n",
            "[CV] END ...................C=1000, gamma=0.0001, kernel=rbf; total time=   0.0s\n",
            "[CV] END ...................C=1000, gamma=0.0001, kernel=rbf; total time=   0.0s\n"
          ]
        },
        {
          "output_type": "execute_result",
          "data": {
            "text/plain": [
              "GridSearchCV(estimator=SVC(),\n",
              "             param_grid={'C': [0.1, 1, 10, 100, 1000],\n",
              "                         'gamma': [1, 0.1, 0.01, 0.001, 0.0001],\n",
              "                         'kernel': ['rbf']},\n",
              "             verbose=2)"
            ]
          },
          "metadata": {},
          "execution_count": 32
        }
      ]
    },
    {
      "cell_type": "code",
      "source": [
        "param_grid = {'C': [0.1,1, 10, 100, 1000], 'gamma': [1,0.1,0.01,0.001,0.0001], 'kernel': ['rbf']} ##for rbf kernel\n",
        "# param_grid = {'C': [0.1,1, 10, 100, 1000], 'kernel': ['sigmoid']} ##for sigmoid kernel\n",
        "# param_grid = {'C': [0.1,1, 10, 100, 1000], 'kernel': ['linear']} ##for linear kernel\n",
        "# param_grid = {'C': [0.1,1, 10, 100, 1000], 'degree': [2,3,4,5,6], 'kernel': ['poly']} ##for polynomial kernel\n",
        "\n",
        "### gamma=Kernel coefficient for ‘rbf’, ‘poly’ and ‘sigmoid’\n",
        "### c=Regularization parameter\n",
        "\n",
        "from sklearn.model_selection import GridSearchCV\n",
        "grid2 = GridSearchCV(SVC(kernel='rbf'),param_grid,refit=True,verbose=2)\n",
        "grid2.fit(X_train2,y_train2)"
      ],
      "metadata": {
        "colab": {
          "base_uri": "https://localhost:8080/"
        },
        "id": "ocxj29YPFmss",
        "outputId": "f6a26543-a711-4953-f012-14071f86e2fb"
      },
      "execution_count": null,
      "outputs": [
        {
          "output_type": "stream",
          "name": "stdout",
          "text": [
            "Fitting 5 folds for each of 25 candidates, totalling 125 fits\n",
            "[CV] END .........................C=0.1, gamma=1, kernel=rbf; total time=   0.0s\n",
            "[CV] END .........................C=0.1, gamma=1, kernel=rbf; total time=   0.0s\n",
            "[CV] END .........................C=0.1, gamma=1, kernel=rbf; total time=   0.0s\n",
            "[CV] END .........................C=0.1, gamma=1, kernel=rbf; total time=   0.0s\n",
            "[CV] END .........................C=0.1, gamma=1, kernel=rbf; total time=   0.0s\n",
            "[CV] END .......................C=0.1, gamma=0.1, kernel=rbf; total time=   0.0s\n",
            "[CV] END .......................C=0.1, gamma=0.1, kernel=rbf; total time=   0.0s\n",
            "[CV] END .......................C=0.1, gamma=0.1, kernel=rbf; total time=   0.0s\n",
            "[CV] END .......................C=0.1, gamma=0.1, kernel=rbf; total time=   0.0s\n",
            "[CV] END .......................C=0.1, gamma=0.1, kernel=rbf; total time=   0.0s\n",
            "[CV] END ......................C=0.1, gamma=0.01, kernel=rbf; total time=   0.0s\n",
            "[CV] END ......................C=0.1, gamma=0.01, kernel=rbf; total time=   0.0s\n",
            "[CV] END ......................C=0.1, gamma=0.01, kernel=rbf; total time=   0.0s\n",
            "[CV] END ......................C=0.1, gamma=0.01, kernel=rbf; total time=   0.0s\n",
            "[CV] END ......................C=0.1, gamma=0.01, kernel=rbf; total time=   0.0s\n",
            "[CV] END .....................C=0.1, gamma=0.001, kernel=rbf; total time=   0.0s\n",
            "[CV] END .....................C=0.1, gamma=0.001, kernel=rbf; total time=   0.0s\n",
            "[CV] END .....................C=0.1, gamma=0.001, kernel=rbf; total time=   0.0s\n",
            "[CV] END .....................C=0.1, gamma=0.001, kernel=rbf; total time=   0.0s\n",
            "[CV] END .....................C=0.1, gamma=0.001, kernel=rbf; total time=   0.0s\n",
            "[CV] END ....................C=0.1, gamma=0.0001, kernel=rbf; total time=   0.0s\n",
            "[CV] END ....................C=0.1, gamma=0.0001, kernel=rbf; total time=   0.0s\n",
            "[CV] END ....................C=0.1, gamma=0.0001, kernel=rbf; total time=   0.0s\n",
            "[CV] END ....................C=0.1, gamma=0.0001, kernel=rbf; total time=   0.0s\n",
            "[CV] END ....................C=0.1, gamma=0.0001, kernel=rbf; total time=   0.0s\n",
            "[CV] END ...........................C=1, gamma=1, kernel=rbf; total time=   0.0s\n",
            "[CV] END ...........................C=1, gamma=1, kernel=rbf; total time=   0.0s\n",
            "[CV] END ...........................C=1, gamma=1, kernel=rbf; total time=   0.0s\n",
            "[CV] END ...........................C=1, gamma=1, kernel=rbf; total time=   0.0s\n",
            "[CV] END ...........................C=1, gamma=1, kernel=rbf; total time=   0.0s\n",
            "[CV] END .........................C=1, gamma=0.1, kernel=rbf; total time=   0.0s\n",
            "[CV] END .........................C=1, gamma=0.1, kernel=rbf; total time=   0.0s\n",
            "[CV] END .........................C=1, gamma=0.1, kernel=rbf; total time=   0.0s\n",
            "[CV] END .........................C=1, gamma=0.1, kernel=rbf; total time=   0.0s\n",
            "[CV] END .........................C=1, gamma=0.1, kernel=rbf; total time=   0.0s\n",
            "[CV] END ........................C=1, gamma=0.01, kernel=rbf; total time=   0.0s\n",
            "[CV] END ........................C=1, gamma=0.01, kernel=rbf; total time=   0.0s\n",
            "[CV] END ........................C=1, gamma=0.01, kernel=rbf; total time=   0.0s\n",
            "[CV] END ........................C=1, gamma=0.01, kernel=rbf; total time=   0.0s\n",
            "[CV] END ........................C=1, gamma=0.01, kernel=rbf; total time=   0.0s\n",
            "[CV] END .......................C=1, gamma=0.001, kernel=rbf; total time=   0.0s\n",
            "[CV] END .......................C=1, gamma=0.001, kernel=rbf; total time=   0.0s\n",
            "[CV] END .......................C=1, gamma=0.001, kernel=rbf; total time=   0.0s\n",
            "[CV] END .......................C=1, gamma=0.001, kernel=rbf; total time=   0.0s\n",
            "[CV] END .......................C=1, gamma=0.001, kernel=rbf; total time=   0.0s\n",
            "[CV] END ......................C=1, gamma=0.0001, kernel=rbf; total time=   0.0s\n",
            "[CV] END ......................C=1, gamma=0.0001, kernel=rbf; total time=   0.0s\n",
            "[CV] END ......................C=1, gamma=0.0001, kernel=rbf; total time=   0.0s\n",
            "[CV] END ......................C=1, gamma=0.0001, kernel=rbf; total time=   0.0s\n",
            "[CV] END ......................C=1, gamma=0.0001, kernel=rbf; total time=   0.0s\n",
            "[CV] END ..........................C=10, gamma=1, kernel=rbf; total time=   0.0s\n",
            "[CV] END ..........................C=10, gamma=1, kernel=rbf; total time=   0.0s\n",
            "[CV] END ..........................C=10, gamma=1, kernel=rbf; total time=   0.0s\n",
            "[CV] END ..........................C=10, gamma=1, kernel=rbf; total time=   0.0s\n",
            "[CV] END ..........................C=10, gamma=1, kernel=rbf; total time=   0.0s\n",
            "[CV] END ........................C=10, gamma=0.1, kernel=rbf; total time=   0.0s\n",
            "[CV] END ........................C=10, gamma=0.1, kernel=rbf; total time=   0.0s\n",
            "[CV] END ........................C=10, gamma=0.1, kernel=rbf; total time=   0.0s\n",
            "[CV] END ........................C=10, gamma=0.1, kernel=rbf; total time=   0.0s\n",
            "[CV] END ........................C=10, gamma=0.1, kernel=rbf; total time=   0.0s\n",
            "[CV] END .......................C=10, gamma=0.01, kernel=rbf; total time=   0.0s\n",
            "[CV] END .......................C=10, gamma=0.01, kernel=rbf; total time=   0.0s\n",
            "[CV] END .......................C=10, gamma=0.01, kernel=rbf; total time=   0.0s\n",
            "[CV] END .......................C=10, gamma=0.01, kernel=rbf; total time=   0.0s\n",
            "[CV] END .......................C=10, gamma=0.01, kernel=rbf; total time=   0.0s\n",
            "[CV] END ......................C=10, gamma=0.001, kernel=rbf; total time=   0.0s\n",
            "[CV] END ......................C=10, gamma=0.001, kernel=rbf; total time=   0.0s\n",
            "[CV] END ......................C=10, gamma=0.001, kernel=rbf; total time=   0.0s\n",
            "[CV] END ......................C=10, gamma=0.001, kernel=rbf; total time=   0.0s\n",
            "[CV] END ......................C=10, gamma=0.001, kernel=rbf; total time=   0.0s\n",
            "[CV] END .....................C=10, gamma=0.0001, kernel=rbf; total time=   0.0s\n",
            "[CV] END .....................C=10, gamma=0.0001, kernel=rbf; total time=   0.0s\n",
            "[CV] END .....................C=10, gamma=0.0001, kernel=rbf; total time=   0.0s\n",
            "[CV] END .....................C=10, gamma=0.0001, kernel=rbf; total time=   0.0s\n",
            "[CV] END .....................C=10, gamma=0.0001, kernel=rbf; total time=   0.0s\n",
            "[CV] END .........................C=100, gamma=1, kernel=rbf; total time=   0.0s\n",
            "[CV] END .........................C=100, gamma=1, kernel=rbf; total time=   0.0s\n",
            "[CV] END .........................C=100, gamma=1, kernel=rbf; total time=   0.0s\n",
            "[CV] END .........................C=100, gamma=1, kernel=rbf; total time=   0.0s\n",
            "[CV] END .........................C=100, gamma=1, kernel=rbf; total time=   0.0s\n",
            "[CV] END .......................C=100, gamma=0.1, kernel=rbf; total time=   0.0s\n",
            "[CV] END .......................C=100, gamma=0.1, kernel=rbf; total time=   0.0s\n",
            "[CV] END .......................C=100, gamma=0.1, kernel=rbf; total time=   0.0s\n",
            "[CV] END .......................C=100, gamma=0.1, kernel=rbf; total time=   0.0s\n",
            "[CV] END .......................C=100, gamma=0.1, kernel=rbf; total time=   0.0s\n",
            "[CV] END ......................C=100, gamma=0.01, kernel=rbf; total time=   0.0s\n",
            "[CV] END ......................C=100, gamma=0.01, kernel=rbf; total time=   0.0s\n",
            "[CV] END ......................C=100, gamma=0.01, kernel=rbf; total time=   0.0s\n",
            "[CV] END ......................C=100, gamma=0.01, kernel=rbf; total time=   0.0s\n",
            "[CV] END ......................C=100, gamma=0.01, kernel=rbf; total time=   0.0s\n",
            "[CV] END .....................C=100, gamma=0.001, kernel=rbf; total time=   0.0s\n",
            "[CV] END .....................C=100, gamma=0.001, kernel=rbf; total time=   0.0s\n",
            "[CV] END .....................C=100, gamma=0.001, kernel=rbf; total time=   0.0s\n",
            "[CV] END .....................C=100, gamma=0.001, kernel=rbf; total time=   0.0s\n",
            "[CV] END .....................C=100, gamma=0.001, kernel=rbf; total time=   0.0s\n",
            "[CV] END ....................C=100, gamma=0.0001, kernel=rbf; total time=   0.0s\n",
            "[CV] END ....................C=100, gamma=0.0001, kernel=rbf; total time=   0.0s\n",
            "[CV] END ....................C=100, gamma=0.0001, kernel=rbf; total time=   0.0s\n",
            "[CV] END ....................C=100, gamma=0.0001, kernel=rbf; total time=   0.0s\n",
            "[CV] END ....................C=100, gamma=0.0001, kernel=rbf; total time=   0.0s\n",
            "[CV] END ........................C=1000, gamma=1, kernel=rbf; total time=   0.0s\n",
            "[CV] END ........................C=1000, gamma=1, kernel=rbf; total time=   0.0s\n",
            "[CV] END ........................C=1000, gamma=1, kernel=rbf; total time=   0.0s\n",
            "[CV] END ........................C=1000, gamma=1, kernel=rbf; total time=   0.0s\n",
            "[CV] END ........................C=1000, gamma=1, kernel=rbf; total time=   0.0s\n",
            "[CV] END ......................C=1000, gamma=0.1, kernel=rbf; total time=   0.0s\n",
            "[CV] END ......................C=1000, gamma=0.1, kernel=rbf; total time=   0.0s\n",
            "[CV] END ......................C=1000, gamma=0.1, kernel=rbf; total time=   0.0s\n",
            "[CV] END ......................C=1000, gamma=0.1, kernel=rbf; total time=   0.0s\n",
            "[CV] END ......................C=1000, gamma=0.1, kernel=rbf; total time=   0.0s\n",
            "[CV] END .....................C=1000, gamma=0.01, kernel=rbf; total time=   0.0s\n",
            "[CV] END .....................C=1000, gamma=0.01, kernel=rbf; total time=   0.0s\n",
            "[CV] END .....................C=1000, gamma=0.01, kernel=rbf; total time=   0.0s\n",
            "[CV] END .....................C=1000, gamma=0.01, kernel=rbf; total time=   0.0s\n",
            "[CV] END .....................C=1000, gamma=0.01, kernel=rbf; total time=   0.0s\n",
            "[CV] END ....................C=1000, gamma=0.001, kernel=rbf; total time=   0.0s\n",
            "[CV] END ....................C=1000, gamma=0.001, kernel=rbf; total time=   0.0s\n",
            "[CV] END ....................C=1000, gamma=0.001, kernel=rbf; total time=   0.0s\n",
            "[CV] END ....................C=1000, gamma=0.001, kernel=rbf; total time=   0.0s\n",
            "[CV] END ....................C=1000, gamma=0.001, kernel=rbf; total time=   0.0s\n",
            "[CV] END ...................C=1000, gamma=0.0001, kernel=rbf; total time=   0.0s\n",
            "[CV] END ...................C=1000, gamma=0.0001, kernel=rbf; total time=   0.0s\n",
            "[CV] END ...................C=1000, gamma=0.0001, kernel=rbf; total time=   0.0s\n",
            "[CV] END ...................C=1000, gamma=0.0001, kernel=rbf; total time=   0.0s\n",
            "[CV] END ...................C=1000, gamma=0.0001, kernel=rbf; total time=   0.0s\n"
          ]
        },
        {
          "output_type": "execute_result",
          "data": {
            "text/plain": [
              "GridSearchCV(estimator=SVC(),\n",
              "             param_grid={'C': [0.1, 1, 10, 100, 1000],\n",
              "                         'gamma': [1, 0.1, 0.01, 0.001, 0.0001],\n",
              "                         'kernel': ['rbf']},\n",
              "             verbose=2)"
            ]
          },
          "metadata": {},
          "execution_count": 33
        }
      ]
    },
    {
      "cell_type": "code",
      "source": [
        "print(grid1.best_params_)\n",
        "grid1.best_estimator_"
      ],
      "metadata": {
        "colab": {
          "base_uri": "https://localhost:8080/"
        },
        "id": "7ps-HJCfFwAx",
        "outputId": "50904842-61b6-4ccb-8d28-7af89ef3e49a"
      },
      "execution_count": null,
      "outputs": [
        {
          "output_type": "stream",
          "name": "stdout",
          "text": [
            "{'C': 100, 'gamma': 0.1, 'kernel': 'rbf'}\n"
          ]
        },
        {
          "output_type": "execute_result",
          "data": {
            "text/plain": [
              "SVC(C=100, gamma=0.1)"
            ]
          },
          "metadata": {},
          "execution_count": 34
        }
      ]
    },
    {
      "cell_type": "code",
      "source": [
        "grid_predictions1 = grid1.predict(X_test1)\n",
        "print(confusion_matrix(y_test1,grid_predictions1))\n",
        "print(accuracy_score(y_test1,grid_predictions1))"
      ],
      "metadata": {
        "colab": {
          "base_uri": "https://localhost:8080/"
        },
        "id": "CTJokrldF_je",
        "outputId": "4245baff-7410-4ba7-da26-22513ed09631"
      },
      "execution_count": null,
      "outputs": [
        {
          "output_type": "stream",
          "name": "stdout",
          "text": [
            "[[45  0]\n",
            " [15  0]]\n",
            "0.75\n"
          ]
        }
      ]
    },
    {
      "cell_type": "code",
      "source": [
        "grid_predictions2 = grid2.predict(X_test2)\n",
        "print(confusion_matrix(y_test2,grid_predictions2))\n",
        "print(accuracy_score(y_test2,grid_predictions2))"
      ],
      "metadata": {
        "colab": {
          "base_uri": "https://localhost:8080/"
        },
        "id": "IQbM4KY-GXfM",
        "outputId": "d0af4c96-6788-4d5c-9a2c-fe6fd3d5ba98"
      },
      "execution_count": null,
      "outputs": [
        {
          "output_type": "stream",
          "name": "stdout",
          "text": [
            "[[45  0]\n",
            " [15  0]]\n",
            "0.75\n"
          ]
        }
      ]
    },
    {
      "cell_type": "code",
      "source": [
        "model_linear = SVC(kernel='linear', C=1).fit(X_train1, y_train1)\n",
        "model_rbf = SVC(kernel='rbf', gamma=1, C=1).fit(X_train1, y_train1)\n",
        "model_poly = SVC(kernel='poly', degree=3, C=1).fit(X_train1, y_train1)\n",
        "model_sig = SVC(kernel='sigmoid', C=1).fit(X_train1, y_train1)"
      ],
      "metadata": {
        "id": "bEbP-Sp7Gdrv"
      },
      "execution_count": null,
      "outputs": []
    },
    {
      "cell_type": "code",
      "source": [
        "model_linear = SVC(kernel='linear', C=1).fit(X_train2, y_train2)\n",
        "model_rbf = SVC(kernel='rbf', gamma=1, C=1).fit(X_train2, y_train2)\n",
        "model_poly = SVC(kernel='poly', degree=3, C=1).fit(X_train2, y_train2)\n",
        "model_sig = SVC(kernel='sigmoid', C=1).fit(X_train2, y_train2)\n"
      ],
      "metadata": {
        "id": "7H1qn7jSGtzS"
      },
      "execution_count": null,
      "outputs": []
    },
    {
      "cell_type": "code",
      "source": [
        "linear_pred = model_linear.predict(X_test1)\n",
        "poly_pred = model_poly.predict(X_test1)\n",
        "rbf_pred = model_rbf.predict(X_test1)\n",
        "sig_pred = model_sig.predict(X_test1)\n",
        "\n",
        "# retrieve the accuracy and print it for all 4 kernel functions\n",
        "accuracy_linear1 = model_linear.score(X_test1, y_test1)\n",
        "accuracy_poly1 = model_poly.score(X_test1, y_test1)\n",
        "accuracy_rbf1 = model_rbf.score(X_test1, y_test1)\n",
        "accuracy_sig1 = model_sig.score(X_test1, y_test1)\n",
        "print('Accuracy Linear Kernel:', accuracy_linear1)\n",
        "print('Accuracy Polynomial Kernel:', accuracy_poly1)\n",
        "print('Accuracy Radial Basis Kernel:', accuracy_rbf1)\n",
        "print('Accuracy Sigmoid Kernel:', accuracy_sig1)\n",
        "      \n",
        "# creating a confusion matrix\n",
        "cm_lin1 = confusion_matrix(y_test1, linear_pred)\n",
        "cm_poly1 = confusion_matrix(y_test1, poly_pred)\n",
        "cm_rbf1 = confusion_matrix(y_test1, rbf_pred)\n",
        "cm_sig1 = confusion_matrix(y_test1, sig_pred)\n",
        "print('cm_lin', '\\n',cm_lin1, '\\n')\n",
        "print('cm_poly', '\\n',cm_poly1 ,'\\n')\n",
        "print('cm_rbf','\\n',cm_rbf1 ,'\\n')\n",
        "print('cm_sig','\\n',cm_sig1 ,'\\n')"
      ],
      "metadata": {
        "colab": {
          "base_uri": "https://localhost:8080/"
        },
        "id": "gpbAS7WsG3N0",
        "outputId": "0510eb4b-e96e-45b5-8923-f017005e3e7e"
      },
      "execution_count": null,
      "outputs": [
        {
          "output_type": "stream",
          "name": "stdout",
          "text": [
            "Accuracy Linear Kernel: 0.75\n",
            "Accuracy Polynomial Kernel: 0.75\n",
            "Accuracy Radial Basis Kernel: 0.75\n",
            "Accuracy Sigmoid Kernel: 0.75\n",
            "cm_lin \n",
            " [[45  0]\n",
            " [15  0]] \n",
            "\n",
            "cm_poly \n",
            " [[45  0]\n",
            " [15  0]] \n",
            "\n",
            "cm_rbf \n",
            " [[45  0]\n",
            " [15  0]] \n",
            "\n",
            "cm_sig \n",
            " [[44  1]\n",
            " [14  1]] \n",
            "\n"
          ]
        }
      ]
    },
    {
      "cell_type": "code",
      "source": [
        "linear_pred2 = model_linear.predict(X_test2)\n",
        "poly_pred2 = model_poly.predict(X_test2)\n",
        "rbf_pred2 = model_rbf.predict(X_test2)\n",
        "sig_pred2 = model_sig.predict(X_test2)\n",
        "\n",
        "# retrieve the accuracy and print it for all 4 kernel functions\n",
        "accuracy_linear2 = model_linear.score(X_test2, y_test2)\n",
        "accuracy_poly2 = model_poly.score(X_test2, y_test2)\n",
        "accuracy_rbf2 = model_rbf.score(X_test2, y_test2)\n",
        "accuracy_sig2 = model_sig.score(X_test2, y_test2)\n",
        "print('Accuracy Linear Kernel:', accuracy_linear2)\n",
        "print('Accuracy Polynomial Kernel:', accuracy_poly2)\n",
        "print('Accuracy Radial Basis Kernel:', accuracy_rbf2)\n",
        "print('Accuracy Sigmoid Kernel:', accuracy_sig2)\n",
        "      \n",
        "# creating a confusion matrix\n",
        "cm_lin2 = confusion_matrix(y_test2, linear_pred2)\n",
        "cm_poly2 = confusion_matrix(y_test2, poly_pred2)\n",
        "cm_rbf2 = confusion_matrix(y_test2, rbf_pred2)\n",
        "cm_sig2 = confusion_matrix(y_test2, sig_pred2)\n",
        "print('cm_lin', '\\n',cm_lin2, '\\n')\n",
        "print('cm_poly', '\\n',cm_poly2 ,'\\n')\n",
        "print('cm_rbf','\\n',cm_rbf2 ,'\\n')\n",
        "print('cm_sig','\\n',cm_sig2 ,'\\n')"
      ],
      "metadata": {
        "colab": {
          "base_uri": "https://localhost:8080/"
        },
        "id": "cE-s-8nmHMhU",
        "outputId": "ba4c8cff-ef6e-4e01-dce9-d2b27684f1a7"
      },
      "execution_count": null,
      "outputs": [
        {
          "output_type": "stream",
          "name": "stdout",
          "text": [
            "Accuracy Linear Kernel: 0.75\n",
            "Accuracy Polynomial Kernel: 0.75\n",
            "Accuracy Radial Basis Kernel: 0.75\n",
            "Accuracy Sigmoid Kernel: 0.7166666666666667\n",
            "cm_lin \n",
            " [[45  0]\n",
            " [15  0]] \n",
            "\n",
            "cm_poly \n",
            " [[45  0]\n",
            " [15  0]] \n",
            "\n",
            "cm_rbf \n",
            " [[45  0]\n",
            " [15  0]] \n",
            "\n",
            "cm_sig \n",
            " [[42  3]\n",
            " [14  1]] \n",
            "\n"
          ]
        }
      ]
    },
    {
      "cell_type": "code",
      "source": [
        ""
      ],
      "metadata": {
        "id": "1VSoBSohHdsL"
      },
      "execution_count": null,
      "outputs": []
    }
  ]
}